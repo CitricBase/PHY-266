{
 "cells": [
  {
   "cell_type": "code",
   "execution_count": 1,
   "metadata": {
    "collapsed": false
   },
   "outputs": [
    {
     "name": "stdout",
     "output_type": "stream",
     "text": [
      "The covariance matrix is \n",
      " [[ 1.05189912  0.26721028]\n",
      " [ 0.26721028  0.08437999]] \n",
      "r is  0.89690488054\n",
      "r is 14.8193007113 sigmas from zero.\n",
      "Is r within the confidence interval?\n",
      "No, 1.58491106806 < r = 14.8193007113\n",
      "With 95% confidence, we can *reject* the null hypothesis that the samples are uncorrelated.\n",
      "a =  -10.6933249296 \n",
      "b = 0.254026529887\n"
     ]
    },
    {
     "data": {
      "text/plain": [
       "<matplotlib.text.Text at 0xad4a6dcc>"
      ]
     },
     "execution_count": 1,
     "metadata": {},
     "output_type": "execute_result"
    },
    {
     "data": {
      "image/png": "[encoded data removed]",
      "text/plain": [
       "<matplotlib.figure.Figure at 0xb344fbec>"
      ]
     },
     "metadata": {},
     "output_type": "display_data"
    }
   ],
   "source": [
    "\"\"\"\n",
    "         1         2         3         4         5         6         7      \n",
    "1234567890123456789012345678901234567890123456789012345678901234567890123456\n",
    "\"\"\"\n",
    "\n",
    "\"\"\"\n",
    "Cordell Newmiller\n",
    "Prof. Fassnacht\n",
    "PHY 266\n",
    "Homework 3\n",
    "Problem 3\n",
    "\n",
    "On the course smartsite, you can find a file called “lx t.dat” under \n",
    "Resources → Homework → Data. The data file contains 3 columns, (1) X-ray \n",
    "luminosity in erg/s, (2) X-ray temperature in keV, (3) error on X-ray \n",
    "temperature. We’re going to ignore the errors for this problem, i.e., we \n",
    "will (incorrectly) give each data point equal weight. First, set \n",
    "x_i = log10(L_X) and y_i = log10(T_X).\n",
    "\n",
    "\"\"\"\n",
    "import numpy\n",
    "\n",
    "data=numpy.loadtxt('lx_t.dat')\n",
    "LX=data[:,0]\n",
    "TX=data[:,1]\n",
    "TXerr=data[:,2]\n",
    "\n",
    "xi = numpy.log10(LX)\n",
    "yi = numpy.log10(TX)\n",
    "\n",
    "\n",
    "\"\"\"\n",
    "(a) Calculate and write down the members of the x, y covariance matrix, and \n",
    "then calculate r. NOTE, write your own simple code to do the calculations \n",
    "to create the covariance matrix elements. Do not use any canned python \n",
    "routines.\n",
    "\n",
    "\"\"\"\n",
    "\n",
    "xmean = xi.sum()/xi.size\n",
    "xvariance= numpy.sum((xi - xmean) ** 2)/(xi.size-1)\n",
    "\n",
    "ymean = yi.sum()/yi.size\n",
    "yvariance= numpy.sum((yi - ymean) ** 2)/(yi.size-1)\n",
    "\n",
    "covariance = numpy.sum((xi - xmean)*(yi - ymean))/(xi.size-1)\n",
    "cmatrix=numpy.array([[xvariance,covariance],[covariance,yvariance]])\n",
    "\n",
    "r=covariance/(xvariance*yvariance)**(1/2)\n",
    "\n",
    "print('The covariance matrix is \\n',cmatrix,'\\nr is ',r)\n",
    "            \n",
    "\"\"\"\n",
    "(b) Are the two quantities correlated? For large  values of N , r is roughly\n",
    "distributed as a Gaussian random variable with μ = 0 and σ = √(1/N). Even \n",
    "though N is not quite large enough, assume that Gaussianity has been \n",
    "achieved. Write down r in terms of number of σ from 0. Next, decide if we \n",
    "can reject the null hypothesis that the two samples are uncorrelated at \n",
    "better than 95% confidence.\n",
    "\"\"\"\n",
    "N=xi.size\n",
    "sigma=(1/N)**(1/2)\n",
    "\n",
    "rinunitsofsigma=r/sigma\n",
    "print('r is',rinunitsofsigma,'sigmas from zero.')\n",
    "\n",
    "import scipy.special\n",
    "confidencelimit=scipy.special.erfinv(0.975)\n",
    "# The value has to be at least this far from the mean to reject the null\n",
    "# hypothesis with 95% confidence. I use 2.5% because the function is \n",
    "# two-tailed. \n",
    "\n",
    "print('Is r within the confidence interval?')\n",
    "if numpy.abs(rinunitsofsigma)<confidencelimit:\n",
    "    print('Yes,',-confidencelimit,'<',rinunitsofsigma,'<',confidencelimit)\n",
    "    print('With 95% confidence, we *cannot* reject the null hypothesis that'\n",
    "          'the samples are uncorrelated.')\n",
    "else:\n",
    "    if rinunitsofsigma>confidencelimit:\n",
    "        print('No,',confidencelimit,'< r =',rinunitsofsigma)\n",
    "        print('With 95% confidence, we can *reject* the null hypothesis',\n",
    "              'that the samples are uncorrelated.')\n",
    "    else:\n",
    "        print('No, r =',rinunitsofsigma, '<',-confidencelimit)\n",
    "        print('With 95% confidence, we can *reject* the null hypothesis',\n",
    "              'that the samples are uncorrelated.')\n",
    "\n",
    "\n",
    "\n",
    "\"\"\"\n",
    "(c) Remember in class when I was deriving the correlation coefficient, I \n",
    "started by minimizing the mean square error for fitting a line to a data \n",
    "set. About half way through I found expressions for the fitting parameters \n",
    "a and b, where y_i = a + b*x_i, in terms of the variances and covariance. \n",
    "In particular, we found that\n",
    "\n",
    "a = <y> − σ_xy/σ_x^2 <x>\n",
    "b = σ_xy/σ_x^2\n",
    "\n",
    "Apply this method to find the best-fitting line to the data. Write down \n",
    "your values for a and b. Plot the data and your best-fit line.\n",
    "\"\"\"\n",
    "\n",
    "# This assumes the error on y is negligible\n",
    "b = covariance/xvariance\n",
    "a = ymean - b * xmean\n",
    "\n",
    "print('a = ',a,'\\nb =',b)\n",
    "\n",
    "from matplotlib import pyplot\n",
    "%matplotlib inline\n",
    "\n",
    "xfit=numpy.arange(xi.min(),xi.max()+1,(xi.max()-xi.min())/10)\n",
    "yfit=a+b*xfit\n",
    "\n",
    "figure1 = pyplot.figure(figsize=(10,10));\n",
    "pyplot.plot(xi,yi,'r+');\n",
    "pyplot.plot(xfit,yfit,'b');\n",
    "pyplot.title('X-ray fit')\n",
    "pyplot.xlabel('log(Luminosity (erg/s))')\n",
    "pyplot.ylabel('log(Temperature (keV))')\n",
    "\n"
   ]
  },
  {
   "cell_type": "code",
   "execution_count": null,
   "metadata": {
    "collapsed": true
   },
   "outputs": [],
   "source": []
  }
 ],
 "metadata": {
  "kernelspec": {
   "display_name": "Python 3",
   "language": "python",
   "name": "python3"
  },
  "language_info": {
   "codemirror_mode": {
    "name": "ipython",
    "version": 3
   },
   "file_extension": ".py",
   "mimetype": "text/x-python",
   "name": "python",
   "nbconvert_exporter": "python",
   "pygments_lexer": "ipython3",
   "version": "3.4.3"
  }
 },
 "nbformat": 4,
 "nbformat_minor": 0
}
